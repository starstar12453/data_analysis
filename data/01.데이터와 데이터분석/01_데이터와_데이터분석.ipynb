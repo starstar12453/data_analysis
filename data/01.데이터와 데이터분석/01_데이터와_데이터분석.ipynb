{
 "cells": [
  {
   "cell_type": "code",
   "execution_count": null,
   "metadata": {},
   "outputs": [],
   "source": [
    "!pip install matplotlib\n",
    "!pip install pandas"
   ]
  },
  {
   "cell_type": "markdown",
   "metadata": {
    "id": "W16DXItoZgS-"
   },
   "source": [
    "# matplotlib 선 그래프 그리기"
   ]
  },
  {
   "cell_type": "code",
   "execution_count": null,
   "metadata": {
    "colab": {
     "base_uri": "https://localhost:8080/",
     "height": 265
    },
    "id": "rVA29kd7ZnsZ",
    "outputId": "6786648d-2636-4298-fa56-93941a495d72"
   },
   "outputs": [],
   "source": [
    "import matplotlib.pyplot as plt\n",
    "plt.plot([1,2,3,4,5],[7,8,9,10,15])\n",
    "plt.show()"
   ]
  },
  {
   "cell_type": "code",
   "execution_count": null,
   "metadata": {
    "colab": {
     "base_uri": "https://localhost:8080/",
     "height": 265
    },
    "id": "Wvg8SBwmZzn4",
    "outputId": "247fbca5-a72d-4607-c207-86380404c397"
   },
   "outputs": [],
   "source": [
    "x = [1,2,3,4,5]\n",
    "y = [10,4,7,2,-1]\n",
    "plt.plot(x,y)\n",
    "plt.show()"
   ]
  },
  {
   "cell_type": "code",
   "execution_count": null,
   "metadata": {
    "colab": {
     "base_uri": "https://localhost:8080/",
     "height": 355
    },
    "id": "eA_OgyX1Z-4m",
    "outputId": "6570c571-03f4-403e-af64-a1358a8d9634"
   },
   "outputs": [],
   "source": [
    "plt.figure(figsize=(10,5))\n",
    "plt.title(\"Graph\", fontsize=20)\n",
    "plt.xlabel(\"x data\")\n",
    "plt.ylabel(\"y label\")\n",
    "\n",
    "x = [1,2,3,4,5]\n",
    "y = [10,4,7,2,-1]\n",
    "plt.plot(x,y)\n",
    "plt.show()"
   ]
  },
  {
   "cell_type": "markdown",
   "metadata": {
    "id": "RtKDSfG4fUGy"
   },
   "source": [
    "# 막대그래프 그리기"
   ]
  },
  {
   "cell_type": "code",
   "execution_count": 80,
   "metadata": {
    "colab": {
     "base_uri": "https://localhost:8080/",
     "height": 265
    },
    "id": "pqSHTuNXaW73",
    "outputId": "95a90c82-9da0-4a5e-d060-1c5ad42445dc"
   },
   "outputs": [
    {
     "ename": "ValueError",
     "evalue": "shape mismatch: objects cannot be broadcast to a single shape.  Mismatch is between arg 0 with shape (5,) and arg 1 with shape (19,).",
     "output_type": "error",
     "traceback": [
      "\u001b[1;31m---------------------------------------------------------------------------\u001b[0m",
      "\u001b[1;31mValueError\u001b[0m                                Traceback (most recent call last)",
      "Cell \u001b[1;32mIn[80], line 1\u001b[0m\n\u001b[1;32m----> 1\u001b[0m \u001b[43mplt\u001b[49m\u001b[38;5;241;43m.\u001b[39;49m\u001b[43mbar\u001b[49m\u001b[43m(\u001b[49m\u001b[43mx\u001b[49m\u001b[43m,\u001b[49m\u001b[43my\u001b[49m\u001b[43m)\u001b[49m\n\u001b[0;32m      2\u001b[0m plt\u001b[38;5;241m.\u001b[39mshow()\n",
      "File \u001b[1;32m~\\AppData\\Local\\Programs\\Python\\Python310\\lib\\site-packages\\matplotlib\\pyplot.py:2439\u001b[0m, in \u001b[0;36mbar\u001b[1;34m(x, height, width, bottom, align, data, **kwargs)\u001b[0m\n\u001b[0;32m   2435\u001b[0m \u001b[38;5;129m@_copy_docstring_and_deprecators\u001b[39m(Axes\u001b[38;5;241m.\u001b[39mbar)\n\u001b[0;32m   2436\u001b[0m \u001b[38;5;28;01mdef\u001b[39;00m \u001b[38;5;21mbar\u001b[39m(\n\u001b[0;32m   2437\u001b[0m         x, height, width\u001b[38;5;241m=\u001b[39m\u001b[38;5;241m0.8\u001b[39m, bottom\u001b[38;5;241m=\u001b[39m\u001b[38;5;28;01mNone\u001b[39;00m, \u001b[38;5;241m*\u001b[39m, align\u001b[38;5;241m=\u001b[39m\u001b[38;5;124m'\u001b[39m\u001b[38;5;124mcenter\u001b[39m\u001b[38;5;124m'\u001b[39m,\n\u001b[0;32m   2438\u001b[0m         data\u001b[38;5;241m=\u001b[39m\u001b[38;5;28;01mNone\u001b[39;00m, \u001b[38;5;241m*\u001b[39m\u001b[38;5;241m*\u001b[39mkwargs):\n\u001b[1;32m-> 2439\u001b[0m     \u001b[38;5;28;01mreturn\u001b[39;00m gca()\u001b[38;5;241m.\u001b[39mbar(\n\u001b[0;32m   2440\u001b[0m         x, height, width\u001b[38;5;241m=\u001b[39mwidth, bottom\u001b[38;5;241m=\u001b[39mbottom, align\u001b[38;5;241m=\u001b[39malign,\n\u001b[0;32m   2441\u001b[0m         \u001b[38;5;241m*\u001b[39m\u001b[38;5;241m*\u001b[39m({\u001b[38;5;124m\"\u001b[39m\u001b[38;5;124mdata\u001b[39m\u001b[38;5;124m\"\u001b[39m: data} \u001b[38;5;28;01mif\u001b[39;00m data \u001b[38;5;129;01mis\u001b[39;00m \u001b[38;5;129;01mnot\u001b[39;00m \u001b[38;5;28;01mNone\u001b[39;00m \u001b[38;5;28;01melse\u001b[39;00m {}), \u001b[38;5;241m*\u001b[39m\u001b[38;5;241m*\u001b[39mkwargs)\n",
      "File \u001b[1;32m~\\AppData\\Local\\Programs\\Python\\Python310\\lib\\site-packages\\matplotlib\\__init__.py:1461\u001b[0m, in \u001b[0;36m_preprocess_data.<locals>.inner\u001b[1;34m(ax, data, *args, **kwargs)\u001b[0m\n\u001b[0;32m   1458\u001b[0m \u001b[38;5;129m@functools\u001b[39m\u001b[38;5;241m.\u001b[39mwraps(func)\n\u001b[0;32m   1459\u001b[0m \u001b[38;5;28;01mdef\u001b[39;00m \u001b[38;5;21minner\u001b[39m(ax, \u001b[38;5;241m*\u001b[39margs, data\u001b[38;5;241m=\u001b[39m\u001b[38;5;28;01mNone\u001b[39;00m, \u001b[38;5;241m*\u001b[39m\u001b[38;5;241m*\u001b[39mkwargs):\n\u001b[0;32m   1460\u001b[0m     \u001b[38;5;28;01mif\u001b[39;00m data \u001b[38;5;129;01mis\u001b[39;00m \u001b[38;5;28;01mNone\u001b[39;00m:\n\u001b[1;32m-> 1461\u001b[0m         \u001b[38;5;28;01mreturn\u001b[39;00m func(ax, \u001b[38;5;241m*\u001b[39m\u001b[38;5;28mmap\u001b[39m(sanitize_sequence, args), \u001b[38;5;241m*\u001b[39m\u001b[38;5;241m*\u001b[39mkwargs)\n\u001b[0;32m   1463\u001b[0m     bound \u001b[38;5;241m=\u001b[39m new_sig\u001b[38;5;241m.\u001b[39mbind(ax, \u001b[38;5;241m*\u001b[39margs, \u001b[38;5;241m*\u001b[39m\u001b[38;5;241m*\u001b[39mkwargs)\n\u001b[0;32m   1464\u001b[0m     auto_label \u001b[38;5;241m=\u001b[39m (bound\u001b[38;5;241m.\u001b[39marguments\u001b[38;5;241m.\u001b[39mget(label_namer)\n\u001b[0;32m   1465\u001b[0m                   \u001b[38;5;129;01mor\u001b[39;00m bound\u001b[38;5;241m.\u001b[39mkwargs\u001b[38;5;241m.\u001b[39mget(label_namer))\n",
      "File \u001b[1;32m~\\AppData\\Local\\Programs\\Python\\Python310\\lib\\site-packages\\matplotlib\\axes\\_axes.py:2409\u001b[0m, in \u001b[0;36mAxes.bar\u001b[1;34m(self, x, height, width, bottom, align, **kwargs)\u001b[0m\n\u001b[0;32m   2406\u001b[0m     \u001b[38;5;28;01mif\u001b[39;00m yerr \u001b[38;5;129;01mis\u001b[39;00m \u001b[38;5;129;01mnot\u001b[39;00m \u001b[38;5;28;01mNone\u001b[39;00m:\n\u001b[0;32m   2407\u001b[0m         yerr \u001b[38;5;241m=\u001b[39m \u001b[38;5;28mself\u001b[39m\u001b[38;5;241m.\u001b[39m_convert_dx(yerr, y0, y, \u001b[38;5;28mself\u001b[39m\u001b[38;5;241m.\u001b[39mconvert_yunits)\n\u001b[1;32m-> 2409\u001b[0m x, height, width, y, linewidth, hatch \u001b[38;5;241m=\u001b[39m \u001b[43mnp\u001b[49m\u001b[38;5;241;43m.\u001b[39;49m\u001b[43mbroadcast_arrays\u001b[49m\u001b[43m(\u001b[49m\n\u001b[0;32m   2410\u001b[0m \u001b[43m    \u001b[49m\u001b[38;5;66;43;03m# Make args iterable too.\u001b[39;49;00m\n\u001b[0;32m   2411\u001b[0m \u001b[43m    \u001b[49m\u001b[43mnp\u001b[49m\u001b[38;5;241;43m.\u001b[39;49m\u001b[43matleast_1d\u001b[49m\u001b[43m(\u001b[49m\u001b[43mx\u001b[49m\u001b[43m)\u001b[49m\u001b[43m,\u001b[49m\u001b[43m \u001b[49m\u001b[43mheight\u001b[49m\u001b[43m,\u001b[49m\u001b[43m \u001b[49m\u001b[43mwidth\u001b[49m\u001b[43m,\u001b[49m\u001b[43m \u001b[49m\u001b[43my\u001b[49m\u001b[43m,\u001b[49m\u001b[43m \u001b[49m\u001b[43mlinewidth\u001b[49m\u001b[43m,\u001b[49m\u001b[43m \u001b[49m\u001b[43mhatch\u001b[49m\u001b[43m)\u001b[49m\n\u001b[0;32m   2413\u001b[0m \u001b[38;5;66;03m# Now that units have been converted, set the tick locations.\u001b[39;00m\n\u001b[0;32m   2414\u001b[0m \u001b[38;5;28;01mif\u001b[39;00m orientation \u001b[38;5;241m==\u001b[39m \u001b[38;5;124m'\u001b[39m\u001b[38;5;124mvertical\u001b[39m\u001b[38;5;124m'\u001b[39m:\n",
      "File \u001b[1;32m~\\AppData\\Local\\Programs\\Python\\Python310\\lib\\site-packages\\numpy\\lib\\stride_tricks.py:540\u001b[0m, in \u001b[0;36mbroadcast_arrays\u001b[1;34m(subok, *args)\u001b[0m\n\u001b[0;32m    533\u001b[0m \u001b[38;5;66;03m# nditer is not used here to avoid the limit of 32 arrays.\u001b[39;00m\n\u001b[0;32m    534\u001b[0m \u001b[38;5;66;03m# Otherwise, something like the following one-liner would suffice:\u001b[39;00m\n\u001b[0;32m    535\u001b[0m \u001b[38;5;66;03m# return np.nditer(args, flags=['multi_index', 'zerosize_ok'],\u001b[39;00m\n\u001b[0;32m    536\u001b[0m \u001b[38;5;66;03m#                  order='C').itviews\u001b[39;00m\n\u001b[0;32m    538\u001b[0m args \u001b[38;5;241m=\u001b[39m [np\u001b[38;5;241m.\u001b[39marray(_m, copy\u001b[38;5;241m=\u001b[39m\u001b[38;5;28;01mFalse\u001b[39;00m, subok\u001b[38;5;241m=\u001b[39msubok) \u001b[38;5;28;01mfor\u001b[39;00m _m \u001b[38;5;129;01min\u001b[39;00m args]\n\u001b[1;32m--> 540\u001b[0m shape \u001b[38;5;241m=\u001b[39m \u001b[43m_broadcast_shape\u001b[49m\u001b[43m(\u001b[49m\u001b[38;5;241;43m*\u001b[39;49m\u001b[43margs\u001b[49m\u001b[43m)\u001b[49m\n\u001b[0;32m    542\u001b[0m \u001b[38;5;28;01mif\u001b[39;00m \u001b[38;5;28mall\u001b[39m(array\u001b[38;5;241m.\u001b[39mshape \u001b[38;5;241m==\u001b[39m shape \u001b[38;5;28;01mfor\u001b[39;00m array \u001b[38;5;129;01min\u001b[39;00m args):\n\u001b[0;32m    543\u001b[0m     \u001b[38;5;66;03m# Common case where nothing needs to be broadcasted.\u001b[39;00m\n\u001b[0;32m    544\u001b[0m     \u001b[38;5;28;01mreturn\u001b[39;00m args\n",
      "File \u001b[1;32m~\\AppData\\Local\\Programs\\Python\\Python310\\lib\\site-packages\\numpy\\lib\\stride_tricks.py:422\u001b[0m, in \u001b[0;36m_broadcast_shape\u001b[1;34m(*args)\u001b[0m\n\u001b[0;32m    417\u001b[0m \u001b[38;5;250m\u001b[39m\u001b[38;5;124;03m\"\"\"Returns the shape of the arrays that would result from broadcasting the\u001b[39;00m\n\u001b[0;32m    418\u001b[0m \u001b[38;5;124;03msupplied arrays against each other.\u001b[39;00m\n\u001b[0;32m    419\u001b[0m \u001b[38;5;124;03m\"\"\"\u001b[39;00m\n\u001b[0;32m    420\u001b[0m \u001b[38;5;66;03m# use the old-iterator because np.nditer does not handle size 0 arrays\u001b[39;00m\n\u001b[0;32m    421\u001b[0m \u001b[38;5;66;03m# consistently\u001b[39;00m\n\u001b[1;32m--> 422\u001b[0m b \u001b[38;5;241m=\u001b[39m \u001b[43mnp\u001b[49m\u001b[38;5;241;43m.\u001b[39;49m\u001b[43mbroadcast\u001b[49m\u001b[43m(\u001b[49m\u001b[38;5;241;43m*\u001b[39;49m\u001b[43margs\u001b[49m\u001b[43m[\u001b[49m\u001b[43m:\u001b[49m\u001b[38;5;241;43m32\u001b[39;49m\u001b[43m]\u001b[49m\u001b[43m)\u001b[49m\n\u001b[0;32m    423\u001b[0m \u001b[38;5;66;03m# unfortunately, it cannot handle 32 or more arguments directly\u001b[39;00m\n\u001b[0;32m    424\u001b[0m \u001b[38;5;28;01mfor\u001b[39;00m pos \u001b[38;5;129;01min\u001b[39;00m \u001b[38;5;28mrange\u001b[39m(\u001b[38;5;241m32\u001b[39m, \u001b[38;5;28mlen\u001b[39m(args), \u001b[38;5;241m31\u001b[39m):\n\u001b[0;32m    425\u001b[0m     \u001b[38;5;66;03m# ironically, np.broadcast does not properly handle np.broadcast\u001b[39;00m\n\u001b[0;32m    426\u001b[0m     \u001b[38;5;66;03m# objects (it treats them as scalars)\u001b[39;00m\n\u001b[0;32m    427\u001b[0m     \u001b[38;5;66;03m# use broadcasting to avoid allocating the full array\u001b[39;00m\n",
      "\u001b[1;31mValueError\u001b[0m: shape mismatch: objects cannot be broadcast to a single shape.  Mismatch is between arg 0 with shape (5,) and arg 1 with shape (19,)."
     ]
    },
    {
     "name": "stderr",
     "output_type": "stream",
     "text": [
      "findfont: Font family 'NanumBarunGothic' not found.\n",
      "findfont: Font family 'NanumBarunGothic' not found.\n",
      "findfont: Font family 'NanumBarunGothic' not found.\n",
      "findfont: Font family 'NanumBarunGothic' not found.\n",
      "findfont: Font family 'NanumBarunGothic' not found.\n",
      "findfont: Font family 'NanumBarunGothic' not found.\n",
      "findfont: Font family 'NanumBarunGothic' not found.\n",
      "findfont: Font family 'NanumBarunGothic' not found.\n",
      "findfont: Font family 'NanumBarunGothic' not found.\n",
      "findfont: Font family 'NanumBarunGothic' not found.\n",
      "findfont: Font family 'NanumBarunGothic' not found.\n",
      "findfont: Font family 'NanumBarunGothic' not found.\n",
      "findfont: Font family 'NanumBarunGothic' not found.\n",
      "findfont: Font family 'NanumBarunGothic' not found.\n",
      "findfont: Font family 'NanumBarunGothic' not found.\n",
      "findfont: Font family 'NanumBarunGothic' not found.\n",
      "findfont: Font family 'NanumBarunGothic' not found.\n",
      "findfont: Font family 'NanumBarunGothic' not found.\n",
      "findfont: Font family 'NanumBarunGothic' not found.\n",
      "findfont: Font family 'NanumBarunGothic' not found.\n",
      "findfont: Font family 'NanumBarunGothic' not found.\n",
      "findfont: Font family 'NanumBarunGothic' not found.\n",
      "findfont: Font family 'NanumBarunGothic' not found.\n",
      "findfont: Font family 'NanumBarunGothic' not found.\n",
      "findfont: Font family 'NanumBarunGothic' not found.\n",
      "findfont: Font family 'NanumBarunGothic' not found.\n",
      "findfont: Font family 'NanumBarunGothic' not found.\n",
      "findfont: Font family 'NanumBarunGothic' not found.\n",
      "findfont: Font family 'NanumBarunGothic' not found.\n",
      "findfont: Font family 'NanumBarunGothic' not found.\n",
      "findfont: Font family 'NanumBarunGothic' not found.\n",
      "findfont: Font family 'NanumBarunGothic' not found.\n",
      "findfont: Font family 'NanumBarunGothic' not found.\n",
      "findfont: Font family 'NanumBarunGothic' not found.\n",
      "findfont: Font family 'NanumBarunGothic' not found.\n",
      "findfont: Font family 'NanumBarunGothic' not found.\n",
      "findfont: Font family 'NanumBarunGothic' not found.\n",
      "findfont: Font family 'NanumBarunGothic' not found.\n"
     ]
    },
    {
     "data": {
      "image/png": "[encoded data removed]",
      "text/plain": [
       "<Figure size 640x480 with 1 Axes>"
      ]
     },
     "metadata": {},
     "output_type": "display_data"
    }
   ],
   "source": [
    "plt.bar(x,y)\n",
    "plt.show()"
   ]
  },
  {
   "cell_type": "markdown",
   "metadata": {
    "id": "3PUxtqI-fc7y"
   },
   "source": [
    "# 박스플롯 그리기"
   ]
  },
  {
   "cell_type": "code",
   "execution_count": null,
   "metadata": {
    "colab": {
     "base_uri": "https://localhost:8080/",
     "height": 283
    },
    "id": "fr_P2Q8VacuY",
    "outputId": "259b69c2-b264-43cd-8538-d902cf4be020"
   },
   "outputs": [],
   "source": [
    "import random\n",
    "y = []\n",
    "for a in range(19):\n",
    "  y.append(random.randint(1,1000))\n",
    "  \n",
    "print(sorted(y))\n",
    "plt.boxplot(y)\n",
    "plt.show()"
   ]
  },
  {
   "cell_type": "markdown",
   "metadata": {
    "id": "NUeVbgnOfi_b"
   },
   "source": [
    "# csv파일 가져오기"
   ]
  },
  {
   "cell_type": "code",
   "execution_count": null,
   "metadata": {
    "id": "0Ukz5j-ga1Mw"
   },
   "outputs": [],
   "source": [
    "import pandas as pd\n",
    "path = './cctv.csv'\n",
    "cctv = pd.read_csv(path, encoding='cp949')"
   ]
  },
  {
   "cell_type": "markdown",
   "metadata": {
    "id": "GZN2l0Rcftrk"
   },
   "source": [
    "# 데이터 구성정보 알아보기"
   ]
  },
  {
   "cell_type": "code",
   "execution_count": 81,
   "metadata": {
    "colab": {
     "base_uri": "https://localhost:8080/",
     "height": 206
    },
    "id": "wwuZS2SAbrja",
    "outputId": "608eec5d-0eaf-4906-a6b9-0d78f6e0aeb7"
   },
   "outputs": [
    {
     "data": {
      "text/html": [
       "<div>\n",
       "<style scoped>\n",
       "    .dataframe tbody tr th:only-of-type {\n",
       "        vertical-align: middle;\n",
       "    }\n",
       "\n",
       "    .dataframe tbody tr th {\n",
       "        vertical-align: top;\n",
       "    }\n",
       "\n",
       "    .dataframe thead th {\n",
       "        text-align: right;\n",
       "    }\n",
       "</style>\n",
       "<table border=\"1\" class=\"dataframe\">\n",
       "  <thead>\n",
       "    <tr style=\"text-align: right;\">\n",
       "      <th></th>\n",
       "      <th>구분</th>\n",
       "      <th>총계</th>\n",
       "      <th>방범</th>\n",
       "      <th>어린이보호구역</th>\n",
       "      <th>공원·놀이터</th>\n",
       "      <th>쓰레기무단투기</th>\n",
       "      <th>시설안전·화재예방</th>\n",
       "      <th>교통단속</th>\n",
       "      <th>교통정보수집·분석</th>\n",
       "      <th>기타다른법령</th>\n",
       "    </tr>\n",
       "  </thead>\n",
       "  <tbody>\n",
       "    <tr>\n",
       "      <th>0</th>\n",
       "      <td>종로구</td>\n",
       "      <td>1715</td>\n",
       "      <td>1403</td>\n",
       "      <td>39</td>\n",
       "      <td>131</td>\n",
       "      <td>0.0</td>\n",
       "      <td>19.0</td>\n",
       "      <td>123</td>\n",
       "      <td>0.0</td>\n",
       "      <td>0.0</td>\n",
       "    </tr>\n",
       "    <tr>\n",
       "      <th>1</th>\n",
       "      <td>중구</td>\n",
       "      <td>2447</td>\n",
       "      <td>1572</td>\n",
       "      <td>76</td>\n",
       "      <td>201</td>\n",
       "      <td>62.0</td>\n",
       "      <td>62.0</td>\n",
       "      <td>307</td>\n",
       "      <td>8.0</td>\n",
       "      <td>159.0</td>\n",
       "    </tr>\n",
       "    <tr>\n",
       "      <th>2</th>\n",
       "      <td>용산구</td>\n",
       "      <td>2611</td>\n",
       "      <td>1934</td>\n",
       "      <td>235</td>\n",
       "      <td>152</td>\n",
       "      <td>0.0</td>\n",
       "      <td>0.0</td>\n",
       "      <td>290</td>\n",
       "      <td>0.0</td>\n",
       "      <td>0.0</td>\n",
       "    </tr>\n",
       "    <tr>\n",
       "      <th>3</th>\n",
       "      <td>성동구</td>\n",
       "      <td>3829</td>\n",
       "      <td>2600</td>\n",
       "      <td>573</td>\n",
       "      <td>196</td>\n",
       "      <td>150.0</td>\n",
       "      <td>12.0</td>\n",
       "      <td>298</td>\n",
       "      <td>0.0</td>\n",
       "      <td>0.0</td>\n",
       "    </tr>\n",
       "    <tr>\n",
       "      <th>4</th>\n",
       "      <td>광진구</td>\n",
       "      <td>3211</td>\n",
       "      <td>2267</td>\n",
       "      <td>625</td>\n",
       "      <td>150</td>\n",
       "      <td>69.0</td>\n",
       "      <td>24.0</td>\n",
       "      <td>76</td>\n",
       "      <td>0.0</td>\n",
       "      <td>0.0</td>\n",
       "    </tr>\n",
       "  </tbody>\n",
       "</table>\n",
       "</div>"
      ],
      "text/plain": [
       "    구분    총계    방범  어린이보호구역  공원·놀이터  쓰레기무단투기  시설안전·화재예방  교통단속  교통정보수집·분석  \\\n",
       "0  종로구  1715  1403       39     131      0.0       19.0   123        0.0   \n",
       "1   중구  2447  1572       76     201     62.0       62.0   307        8.0   \n",
       "2  용산구  2611  1934      235     152      0.0        0.0   290        0.0   \n",
       "3  성동구  3829  2600      573     196    150.0       12.0   298        0.0   \n",
       "4  광진구  3211  2267      625     150     69.0       24.0    76        0.0   \n",
       "\n",
       "   기타다른법령  \n",
       "0     0.0  \n",
       "1   159.0  \n",
       "2     0.0  \n",
       "3     0.0  \n",
       "4     0.0  "
      ]
     },
     "execution_count": 81,
     "metadata": {},
     "output_type": "execute_result"
    }
   ],
   "source": [
    "cctv.head()"
   ]
  },
  {
   "cell_type": "markdown",
   "metadata": {
    "id": "QwNq5TydfxnX"
   },
   "source": [
    "# 데이터 전처리"
   ]
  },
  {
   "cell_type": "code",
   "execution_count": 82,
   "metadata": {
    "colab": {
     "base_uri": "https://localhost:8080/"
    },
    "id": "YsYGU0vNbtX6",
    "outputId": "f3471f51-ab8f-4147-ff64-fd2c3add8792"
   },
   "outputs": [
    {
     "name": "stdout",
     "output_type": "stream",
     "text": [
      "<class 'pandas.core.frame.DataFrame'>\n",
      "RangeIndex: 25 entries, 0 to 24\n",
      "Data columns (total 10 columns):\n",
      " #   Column     Non-Null Count  Dtype  \n",
      "---  ------     --------------  -----  \n",
      " 0   구분         25 non-null     object \n",
      " 1   총계         25 non-null     int64  \n",
      " 2   방범         25 non-null     int64  \n",
      " 3   어린이보호구역    25 non-null     int64  \n",
      " 4   공원·놀이터     25 non-null     int64  \n",
      " 5   쓰레기무단투기    25 non-null     float64\n",
      " 6   시설안전·화재예방  25 non-null     float64\n",
      " 7   교통단속       25 non-null     int64  \n",
      " 8   교통정보수집·분석  25 non-null     float64\n",
      " 9   기타다른법령     25 non-null     float64\n",
      "dtypes: float64(4), int64(5), object(1)\n",
      "memory usage: 2.1+ KB\n"
     ]
    }
   ],
   "source": [
    "cctv.info()"
   ]
  },
  {
   "cell_type": "code",
   "execution_count": 83,
   "metadata": {
    "colab": {
     "base_uri": "https://localhost:8080/"
    },
    "id": "sJSXUiQSb0LL",
    "outputId": "34f557fb-666b-474b-a6b3-897985d2b31a"
   },
   "outputs": [
    {
     "data": {
      "text/plain": [
       "구분           0\n",
       "총계           0\n",
       "방범           0\n",
       "어린이보호구역      0\n",
       "공원·놀이터       0\n",
       "쓰레기무단투기      0\n",
       "시설안전·화재예방    0\n",
       "교통단속         0\n",
       "교통정보수집·분석    0\n",
       "기타다른법령       0\n",
       "dtype: int64"
      ]
     },
     "execution_count": 83,
     "metadata": {},
     "output_type": "execute_result"
    }
   ],
   "source": [
    "cctv.isna().sum()"
   ]
  },
  {
   "cell_type": "code",
   "execution_count": 84,
   "metadata": {
    "colab": {
     "base_uri": "https://localhost:8080/"
    },
    "id": "19GG9xCDb71y",
    "outputId": "8bfbad7f-8ab2-4597-bf7d-94fbb8cc83ad"
   },
   "outputs": [
    {
     "data": {
      "text/plain": [
       "구분           0\n",
       "총계           0\n",
       "방범           0\n",
       "어린이보호구역      0\n",
       "공원·놀이터       0\n",
       "쓰레기무단투기      0\n",
       "시설안전·화재예방    0\n",
       "교통단속         0\n",
       "교통정보수집·분석    0\n",
       "기타다른법령       0\n",
       "dtype: int64"
      ]
     },
     "execution_count": 84,
     "metadata": {},
     "output_type": "execute_result"
    }
   ],
   "source": [
    "cctv = cctv.fillna(0)\n",
    "cctv.isna().sum()"
   ]
  },
  {
   "cell_type": "code",
   "execution_count": 85,
   "metadata": {
    "colab": {
     "base_uri": "https://localhost:8080/"
    },
    "id": "79Sp98UVcHRL",
    "outputId": "2554ec7d-aa26-4ef6-bc19-e55ffacdb92c"
   },
   "outputs": [
    {
     "data": {
      "text/plain": [
       "구분           0\n",
       "총계           0\n",
       "방범           0\n",
       "어린이보호구역      0\n",
       "공원·놀이터       0\n",
       "쓰레기무단투기      0\n",
       "시설안전·화재예방    0\n",
       "교통단속         0\n",
       "교통정보수집·분석    0\n",
       "기타다른법령       0\n",
       "dtype: int64"
      ]
     },
     "execution_count": 85,
     "metadata": {},
     "output_type": "execute_result"
    }
   ],
   "source": [
    "cctv = cctv.dropna()\n",
    "cctv.isna().sum()"
   ]
  },
  {
   "cell_type": "markdown",
   "metadata": {
    "id": "RPkjv7Fif4ze"
   },
   "source": [
    "# 한글 폰트 사용하기"
   ]
  },
  {
   "cell_type": "code",
   "execution_count": 86,
   "metadata": {
    "colab": {
     "base_uri": "https://localhost:8080/"
    },
    "id": "PdY7FO67cOGD",
    "outputId": "22995ee8-6c20-448b-8073-42c474c62290"
   },
   "outputs": [
    {
     "name": "stderr",
     "output_type": "stream",
     "text": [
      "'sudo'은(는) 내부 또는 외부 명령, 실행할 수 있는 프로그램, 또는\n",
      "배치 파일이 아닙니다.\n",
      "'sudo'은(는) 내부 또는 외부 명령, 실행할 수 있는 프로그램, 또는\n",
      "배치 파일이 아닙니다.\n",
      "'rm'은(는) 내부 또는 외부 명령, 실행할 수 있는 프로그램, 또는\n",
      "배치 파일이 아닙니다.\n"
     ]
    }
   ],
   "source": [
    "!sudo apt-get install -y fonts-nanum\n",
    "!sudo fc-cache -fv\n",
    "!rm ~/.cache/matplotlib -rf"
   ]
  },
  {
   "cell_type": "code",
   "execution_count": 87,
   "metadata": {
    "id": "Y_SVt0YeccFr"
   },
   "outputs": [],
   "source": [
    "import matplotlib.pyplot as plt\n",
    "plt.rc('font', family = 'NanumBarunGothic')\n",
    "plt.rc('axes', unicode_minus = False)"
   ]
  },
  {
   "cell_type": "markdown",
   "metadata": {
    "id": "_ueNqifPgBRD"
   },
   "source": [
    "# CCTV 시각화 - 선그래프"
   ]
  },
  {
   "cell_type": "code",
   "execution_count": 88,
   "metadata": {
    "colab": {
     "base_uri": "https://localhost:8080/",
     "height": 333
    },
    "id": "XPSIRGYDcsUv",
    "outputId": "27587f0c-23eb-427d-bb0b-4de8cd6adc48"
   },
   "outputs": [
    {
     "name": "stderr",
     "output_type": "stream",
     "text": [
      "findfont: Font family 'NanumBarunGothic' not found.\n",
      "findfont: Font family 'NanumBarunGothic' not found.\n",
      "findfont: Font family 'NanumBarunGothic' not found.\n",
      "findfont: Font family 'NanumBarunGothic' not found.\n",
      "findfont: Font family 'NanumBarunGothic' not found.\n",
      "findfont: Font family 'NanumBarunGothic' not found.\n",
      "findfont: Font family 'NanumBarunGothic' not found.\n",
      "findfont: Font family 'NanumBarunGothic' not found.\n",
      "C:\\Users\\User\\AppData\\Local\\Programs\\Python\\Python310\\lib\\site-packages\\IPython\\core\\pylabtools.py:152: UserWarning: Glyph 44033 (\\N{HANGUL SYLLABLE GAG}) missing from current font.\n",
      "  fig.canvas.print_figure(bytes_io, **kw)\n",
      "C:\\Users\\User\\AppData\\Local\\Programs\\Python\\Python310\\lib\\site-packages\\IPython\\core\\pylabtools.py:152: UserWarning: Glyph 51088 (\\N{HANGUL SYLLABLE JA}) missing from current font.\n",
      "  fig.canvas.print_figure(bytes_io, **kw)\n",
      "C:\\Users\\User\\AppData\\Local\\Programs\\Python\\Python310\\lib\\site-packages\\IPython\\core\\pylabtools.py:152: UserWarning: Glyph 52824 (\\N{HANGUL SYLLABLE CI}) missing from current font.\n",
      "  fig.canvas.print_figure(bytes_io, **kw)\n",
      "C:\\Users\\User\\AppData\\Local\\Programs\\Python\\Python310\\lib\\site-packages\\IPython\\core\\pylabtools.py:152: UserWarning: Glyph 44396 (\\N{HANGUL SYLLABLE GU}) missing from current font.\n",
      "  fig.canvas.print_figure(bytes_io, **kw)\n",
      "C:\\Users\\User\\AppData\\Local\\Programs\\Python\\Python310\\lib\\site-packages\\IPython\\core\\pylabtools.py:152: UserWarning: Glyph 48324 (\\N{HANGUL SYLLABLE BYEOL}) missing from current font.\n",
      "  fig.canvas.print_figure(bytes_io, **kw)\n",
      "C:\\Users\\User\\AppData\\Local\\Programs\\Python\\Python310\\lib\\site-packages\\IPython\\core\\pylabtools.py:152: UserWarning: Glyph 44079 (\\N{HANGUL SYLLABLE GAES}) missing from current font.\n",
      "  fig.canvas.print_figure(bytes_io, **kw)\n",
      "C:\\Users\\User\\AppData\\Local\\Programs\\Python\\Python310\\lib\\site-packages\\IPython\\core\\pylabtools.py:152: UserWarning: Glyph 49688 (\\N{HANGUL SYLLABLE SU}) missing from current font.\n",
      "  fig.canvas.print_figure(bytes_io, **kw)\n",
      "findfont: Font family 'NanumBarunGothic' not found.\n",
      "C:\\Users\\User\\AppData\\Local\\Programs\\Python\\Python310\\lib\\site-packages\\IPython\\core\\pylabtools.py:152: UserWarning: Glyph 51333 (\\N{HANGUL SYLLABLE JONG}) missing from current font.\n",
      "  fig.canvas.print_figure(bytes_io, **kw)\n",
      "C:\\Users\\User\\AppData\\Local\\Programs\\Python\\Python310\\lib\\site-packages\\IPython\\core\\pylabtools.py:152: UserWarning: Glyph 47196 (\\N{HANGUL SYLLABLE RO}) missing from current font.\n",
      "  fig.canvas.print_figure(bytes_io, **kw)\n",
      "findfont: Font family 'NanumBarunGothic' not found.\n",
      "C:\\Users\\User\\AppData\\Local\\Programs\\Python\\Python310\\lib\\site-packages\\IPython\\core\\pylabtools.py:152: UserWarning: Glyph 51473 (\\N{HANGUL SYLLABLE JUNG}) missing from current font.\n",
      "  fig.canvas.print_figure(bytes_io, **kw)\n",
      "findfont: Font family 'NanumBarunGothic' not found.\n",
      "C:\\Users\\User\\AppData\\Local\\Programs\\Python\\Python310\\lib\\site-packages\\IPython\\core\\pylabtools.py:152: UserWarning: Glyph 50857 (\\N{HANGUL SYLLABLE YONG}) missing from current font.\n",
      "  fig.canvas.print_figure(bytes_io, **kw)\n",
      "C:\\Users\\User\\AppData\\Local\\Programs\\Python\\Python310\\lib\\site-packages\\IPython\\core\\pylabtools.py:152: UserWarning: Glyph 49328 (\\N{HANGUL SYLLABLE SAN}) missing from current font.\n",
      "  fig.canvas.print_figure(bytes_io, **kw)\n",
      "findfont: Font family 'NanumBarunGothic' not found.\n",
      "C:\\Users\\User\\AppData\\Local\\Programs\\Python\\Python310\\lib\\site-packages\\IPython\\core\\pylabtools.py:152: UserWarning: Glyph 49457 (\\N{HANGUL SYLLABLE SEONG}) missing from current font.\n",
      "  fig.canvas.print_figure(bytes_io, **kw)\n",
      "C:\\Users\\User\\AppData\\Local\\Programs\\Python\\Python310\\lib\\site-packages\\IPython\\core\\pylabtools.py:152: UserWarning: Glyph 46041 (\\N{HANGUL SYLLABLE DONG}) missing from current font.\n",
      "  fig.canvas.print_figure(bytes_io, **kw)\n",
      "findfont: Font family 'NanumBarunGothic' not found.\n",
      "C:\\Users\\User\\AppData\\Local\\Programs\\Python\\Python310\\lib\\site-packages\\IPython\\core\\pylabtools.py:152: UserWarning: Glyph 44305 (\\N{HANGUL SYLLABLE GWANG}) missing from current font.\n",
      "  fig.canvas.print_figure(bytes_io, **kw)\n",
      "C:\\Users\\User\\AppData\\Local\\Programs\\Python\\Python310\\lib\\site-packages\\IPython\\core\\pylabtools.py:152: UserWarning: Glyph 51652 (\\N{HANGUL SYLLABLE JIN}) missing from current font.\n",
      "  fig.canvas.print_figure(bytes_io, **kw)\n",
      "findfont: Font family 'NanumBarunGothic' not found.\n",
      "C:\\Users\\User\\AppData\\Local\\Programs\\Python\\Python310\\lib\\site-packages\\IPython\\core\\pylabtools.py:152: UserWarning: Glyph 45824 (\\N{HANGUL SYLLABLE DAE}) missing from current font.\n",
      "  fig.canvas.print_figure(bytes_io, **kw)\n",
      "C:\\Users\\User\\AppData\\Local\\Programs\\Python\\Python310\\lib\\site-packages\\IPython\\core\\pylabtools.py:152: UserWarning: Glyph 47928 (\\N{HANGUL SYLLABLE MUN}) missing from current font.\n",
      "  fig.canvas.print_figure(bytes_io, **kw)\n",
      "findfont: Font family 'NanumBarunGothic' not found.\n",
      "C:\\Users\\User\\AppData\\Local\\Programs\\Python\\Python310\\lib\\site-packages\\IPython\\core\\pylabtools.py:152: UserWarning: Glyph 46993 (\\N{HANGUL SYLLABLE RANG}) missing from current font.\n",
      "  fig.canvas.print_figure(bytes_io, **kw)\n",
      "findfont: Font family 'NanumBarunGothic' not found.\n",
      "C:\\Users\\User\\AppData\\Local\\Programs\\Python\\Python310\\lib\\site-packages\\IPython\\core\\pylabtools.py:152: UserWarning: Glyph 48513 (\\N{HANGUL SYLLABLE BUG}) missing from current font.\n",
      "  fig.canvas.print_figure(bytes_io, **kw)\n",
      "findfont: Font family 'NanumBarunGothic' not found.\n",
      "C:\\Users\\User\\AppData\\Local\\Programs\\Python\\Python310\\lib\\site-packages\\IPython\\core\\pylabtools.py:152: UserWarning: Glyph 44053 (\\N{HANGUL SYLLABLE GANG}) missing from current font.\n",
      "  fig.canvas.print_figure(bytes_io, **kw)\n",
      "findfont: Font family 'NanumBarunGothic' not found.\n",
      "C:\\Users\\User\\AppData\\Local\\Programs\\Python\\Python310\\lib\\site-packages\\IPython\\core\\pylabtools.py:152: UserWarning: Glyph 46020 (\\N{HANGUL SYLLABLE DO}) missing from current font.\n",
      "  fig.canvas.print_figure(bytes_io, **kw)\n",
      "C:\\Users\\User\\AppData\\Local\\Programs\\Python\\Python310\\lib\\site-packages\\IPython\\core\\pylabtools.py:152: UserWarning: Glyph 48393 (\\N{HANGUL SYLLABLE BONG}) missing from current font.\n",
      "  fig.canvas.print_figure(bytes_io, **kw)\n",
      "findfont: Font family 'NanumBarunGothic' not found.\n",
      "C:\\Users\\User\\AppData\\Local\\Programs\\Python\\Python310\\lib\\site-packages\\IPython\\core\\pylabtools.py:152: UserWarning: Glyph 45432 (\\N{HANGUL SYLLABLE NO}) missing from current font.\n",
      "  fig.canvas.print_figure(bytes_io, **kw)\n",
      "C:\\Users\\User\\AppData\\Local\\Programs\\Python\\Python310\\lib\\site-packages\\IPython\\core\\pylabtools.py:152: UserWarning: Glyph 50896 (\\N{HANGUL SYLLABLE WEON}) missing from current font.\n",
      "  fig.canvas.print_figure(bytes_io, **kw)\n",
      "findfont: Font family 'NanumBarunGothic' not found.\n",
      "C:\\Users\\User\\AppData\\Local\\Programs\\Python\\Python310\\lib\\site-packages\\IPython\\core\\pylabtools.py:152: UserWarning: Glyph 51008 (\\N{HANGUL SYLLABLE EUN}) missing from current font.\n",
      "  fig.canvas.print_figure(bytes_io, **kw)\n",
      "C:\\Users\\User\\AppData\\Local\\Programs\\Python\\Python310\\lib\\site-packages\\IPython\\core\\pylabtools.py:152: UserWarning: Glyph 54217 (\\N{HANGUL SYLLABLE PYEONG}) missing from current font.\n",
      "  fig.canvas.print_figure(bytes_io, **kw)\n",
      "findfont: Font family 'NanumBarunGothic' not found.\n",
      "C:\\Users\\User\\AppData\\Local\\Programs\\Python\\Python310\\lib\\site-packages\\IPython\\core\\pylabtools.py:152: UserWarning: Glyph 49436 (\\N{HANGUL SYLLABLE SEO}) missing from current font.\n",
      "  fig.canvas.print_figure(bytes_io, **kw)\n",
      "findfont: Font family 'NanumBarunGothic' not found.\n",
      "C:\\Users\\User\\AppData\\Local\\Programs\\Python\\Python310\\lib\\site-packages\\IPython\\core\\pylabtools.py:152: UserWarning: Glyph 47560 (\\N{HANGUL SYLLABLE MA}) missing from current font.\n",
      "  fig.canvas.print_figure(bytes_io, **kw)\n",
      "C:\\Users\\User\\AppData\\Local\\Programs\\Python\\Python310\\lib\\site-packages\\IPython\\core\\pylabtools.py:152: UserWarning: Glyph 54252 (\\N{HANGUL SYLLABLE PO}) missing from current font.\n",
      "  fig.canvas.print_figure(bytes_io, **kw)\n",
      "findfont: Font family 'NanumBarunGothic' not found.\n",
      "C:\\Users\\User\\AppData\\Local\\Programs\\Python\\Python310\\lib\\site-packages\\IPython\\core\\pylabtools.py:152: UserWarning: Glyph 50577 (\\N{HANGUL SYLLABLE YANG}) missing from current font.\n",
      "  fig.canvas.print_figure(bytes_io, **kw)\n",
      "C:\\Users\\User\\AppData\\Local\\Programs\\Python\\Python310\\lib\\site-packages\\IPython\\core\\pylabtools.py:152: UserWarning: Glyph 52380 (\\N{HANGUL SYLLABLE CEON}) missing from current font.\n",
      "  fig.canvas.print_figure(bytes_io, **kw)\n",
      "findfont: Font family 'NanumBarunGothic' not found.\n"
     ]
    },
    {
     "name": "stderr",
     "output_type": "stream",
     "text": [
      "findfont: Font family 'NanumBarunGothic' not found.\n",
      "findfont: Font family 'NanumBarunGothic' not found.\n",
      "C:\\Users\\User\\AppData\\Local\\Programs\\Python\\Python310\\lib\\site-packages\\IPython\\core\\pylabtools.py:152: UserWarning: Glyph 44552 (\\N{HANGUL SYLLABLE GEUM}) missing from current font.\n",
      "  fig.canvas.print_figure(bytes_io, **kw)\n",
      "findfont: Font family 'NanumBarunGothic' not found.\n",
      "C:\\Users\\User\\AppData\\Local\\Programs\\Python\\Python310\\lib\\site-packages\\IPython\\core\\pylabtools.py:152: UserWarning: Glyph 50689 (\\N{HANGUL SYLLABLE YEONG}) missing from current font.\n",
      "  fig.canvas.print_figure(bytes_io, **kw)\n",
      "C:\\Users\\User\\AppData\\Local\\Programs\\Python\\Python310\\lib\\site-packages\\IPython\\core\\pylabtools.py:152: UserWarning: Glyph 46321 (\\N{HANGUL SYLLABLE DEUNG}) missing from current font.\n",
      "  fig.canvas.print_figure(bytes_io, **kw)\n",
      "findfont: Font family 'NanumBarunGothic' not found.\n",
      "C:\\Users\\User\\AppData\\Local\\Programs\\Python\\Python310\\lib\\site-packages\\IPython\\core\\pylabtools.py:152: UserWarning: Glyph 51089 (\\N{HANGUL SYLLABLE JAG}) missing from current font.\n",
      "  fig.canvas.print_figure(bytes_io, **kw)\n",
      "findfont: Font family 'NanumBarunGothic' not found.\n",
      "C:\\Users\\User\\AppData\\Local\\Programs\\Python\\Python310\\lib\\site-packages\\IPython\\core\\pylabtools.py:152: UserWarning: Glyph 44288 (\\N{HANGUL SYLLABLE GWAN}) missing from current font.\n",
      "  fig.canvas.print_figure(bytes_io, **kw)\n",
      "C:\\Users\\User\\AppData\\Local\\Programs\\Python\\Python310\\lib\\site-packages\\IPython\\core\\pylabtools.py:152: UserWarning: Glyph 50501 (\\N{HANGUL SYLLABLE AG}) missing from current font.\n",
      "  fig.canvas.print_figure(bytes_io, **kw)\n",
      "findfont: Font family 'NanumBarunGothic' not found.\n",
      "C:\\Users\\User\\AppData\\Local\\Programs\\Python\\Python310\\lib\\site-packages\\IPython\\core\\pylabtools.py:152: UserWarning: Glyph 52488 (\\N{HANGUL SYLLABLE CO}) missing from current font.\n",
      "  fig.canvas.print_figure(bytes_io, **kw)\n",
      "findfont: Font family 'NanumBarunGothic' not found.\n",
      "C:\\Users\\User\\AppData\\Local\\Programs\\Python\\Python310\\lib\\site-packages\\IPython\\core\\pylabtools.py:152: UserWarning: Glyph 45224 (\\N{HANGUL SYLLABLE NAM}) missing from current font.\n",
      "  fig.canvas.print_figure(bytes_io, **kw)\n",
      "findfont: Font family 'NanumBarunGothic' not found.\n",
      "C:\\Users\\User\\AppData\\Local\\Programs\\Python\\Python310\\lib\\site-packages\\IPython\\core\\pylabtools.py:152: UserWarning: Glyph 49569 (\\N{HANGUL SYLLABLE SONG}) missing from current font.\n",
      "  fig.canvas.print_figure(bytes_io, **kw)\n",
      "C:\\Users\\User\\AppData\\Local\\Programs\\Python\\Python310\\lib\\site-packages\\IPython\\core\\pylabtools.py:152: UserWarning: Glyph 54028 (\\N{HANGUL SYLLABLE PA}) missing from current font.\n",
      "  fig.canvas.print_figure(bytes_io, **kw)\n",
      "findfont: Font family 'NanumBarunGothic' not found.\n",
      "findfont: Font family 'NanumBarunGothic' not found.\n",
      "findfont: Font family 'NanumBarunGothic' not found.\n",
      "findfont: Font family 'NanumBarunGothic' not found.\n",
      "findfont: Font family 'NanumBarunGothic' not found.\n",
      "findfont: Font family 'NanumBarunGothic' not found.\n",
      "findfont: Font family 'NanumBarunGothic' not found.\n",
      "findfont: Font family 'NanumBarunGothic' not found.\n",
      "findfont: Font family 'NanumBarunGothic' not found.\n",
      "findfont: Font family 'NanumBarunGothic' not found.\n",
      "findfont: Font family 'NanumBarunGothic' not found.\n",
      "findfont: Font family 'NanumBarunGothic' not found.\n",
      "findfont: Font family 'NanumBarunGothic' not found.\n",
      "findfont: Font family 'NanumBarunGothic' not found.\n",
      "findfont: Font family 'NanumBarunGothic' not found.\n",
      "findfont: Font family 'NanumBarunGothic' not found.\n",
      "findfont: Font family 'NanumBarunGothic' not found.\n",
      "findfont: Font family 'NanumBarunGothic' not found.\n",
      "findfont: Font family 'NanumBarunGothic' not found.\n",
      "findfont: Font family 'NanumBarunGothic' not found.\n",
      "findfont: Font family 'NanumBarunGothic' not found.\n",
      "findfont: Font family 'NanumBarunGothic' not found.\n",
      "findfont: Font family 'NanumBarunGothic' not found.\n",
      "findfont: Font family 'NanumBarunGothic' not found.\n",
      "findfont: Font family 'NanumBarunGothic' not found.\n",
      "findfont: Font family 'NanumBarunGothic' not found.\n",
      "findfont: Font family 'NanumBarunGothic' not found.\n",
      "findfont: Font family 'NanumBarunGothic' not found.\n",
      "findfont: Font family 'NanumBarunGothic' not found.\n",
      "findfont: Font family 'NanumBarunGothic' not found.\n",
      "findfont: Font family 'NanumBarunGothic' not found.\n",
      "findfont: Font family 'NanumBarunGothic' not found.\n",
      "findfont: Font family 'NanumBarunGothic' not found.\n",
      "findfont: Font family 'NanumBarunGothic' not found.\n",
      "findfont: Font family 'NanumBarunGothic' not found.\n",
      "findfont: Font family 'NanumBarunGothic' not found.\n",
      "findfont: Font family 'NanumBarunGothic' not found.\n",
      "findfont: Font family 'NanumBarunGothic' not found.\n",
      "findfont: Font family 'NanumBarunGothic' not found.\n",
      "findfont: Font family 'NanumBarunGothic' not found.\n",
      "findfont: Font family 'NanumBarunGothic' not found.\n",
      "findfont: Font family 'NanumBarunGothic' not found.\n",
      "findfont: Font family 'NanumBarunGothic' not found.\n",
      "findfont: Font family 'NanumBarunGothic' not found.\n",
      "findfont: Font family 'NanumBarunGothic' not found.\n",
      "findfont: Font family 'NanumBarunGothic' not found.\n",
      "findfont: Font family 'NanumBarunGothic' not found.\n",
      "findfont: Font family 'NanumBarunGothic' not found.\n",
      "findfont: Font family 'NanumBarunGothic' not found.\n",
      "findfont: Font family 'NanumBarunGothic' not found.\n",
      "findfont: Font family 'NanumBarunGothic' not found.\n",
      "findfont: Font family 'NanumBarunGothic' not found.\n",
      "findfont: Font family 'NanumBarunGothic' not found.\n",
      "findfont: Font family 'NanumBarunGothic' not found.\n",
      "findfont: Font family 'NanumBarunGothic' not found.\n",
      "findfont: Font family 'NanumBarunGothic' not found.\n",
      "findfont: Font family 'NanumBarunGothic' not found.\n",
      "findfont: Font family 'NanumBarunGothic' not found.\n",
      "findfont: Font family 'NanumBarunGothic' not found.\n",
      "findfont: Font family 'NanumBarunGothic' not found.\n",
      "findfont: Font family 'NanumBarunGothic' not found.\n",
      "findfont: Font family 'NanumBarunGothic' not found.\n",
      "findfont: Font family 'NanumBarunGothic' not found.\n",
      "findfont: Font family 'NanumBarunGothic' not found.\n",
      "findfont: Font family 'NanumBarunGothic' not found.\n",
      "findfont: Font family 'NanumBarunGothic' not found.\n"
     ]
    },
    {
     "data": {
      "image/png": "[encoded data removed]",
      "text/plain": [
       "<Figure size 1500x500 with 1 Axes>"
      ]
     },
     "metadata": {},
     "output_type": "display_data"
    }
   ],
   "source": [
    "plt.figure(figsize=(15,5))\n",
    "plt.title('각 자치구별 CCTV 갯수', fontsize =10)\n",
    "\n",
    "plt.plot(cctv['구분'], cctv['총계'])\n",
    "plt.show()"
   ]
  },
  {
   "cell_type": "markdown",
   "metadata": {
    "id": "opV_3GR7gGg8"
   },
   "source": [
    "# CCTV 시각화 - 막대그래프"
   ]
  },
  {
   "cell_type": "code",
   "execution_count": 91,
   "metadata": {
    "colab": {
     "base_uri": "https://localhost:8080/",
     "height": 278
    },
    "id": "USllace-dCC1",
    "outputId": "793bcd96-b15b-4a7d-f372-16e684e78987"
   },
   "outputs": [
    {
     "name": "stderr",
     "output_type": "stream",
     "text": [
      "findfont: Font family 'NanumBarunGothic' not found.\n",
      "findfont: Font family 'NanumBarunGothic' not found.\n",
      "findfont: Font family 'NanumBarunGothic' not found.\n",
      "findfont: Font family 'NanumBarunGothic' not found.\n",
      "findfont: Font family 'NanumBarunGothic' not found.\n",
      "findfont: Font family 'NanumBarunGothic' not found.\n",
      "findfont: Font family 'NanumBarunGothic' not found.\n",
      "findfont: Font family 'NanumBarunGothic' not found.\n",
      "findfont: Font family 'NanumBarunGothic' not found.\n",
      "findfont: Font family 'NanumBarunGothic' not found.\n",
      "findfont: Font family 'NanumBarunGothic' not found.\n",
      "findfont: Font family 'NanumBarunGothic' not found.\n",
      "findfont: Font family 'NanumBarunGothic' not found.\n",
      "findfont: Font family 'NanumBarunGothic' not found.\n",
      "findfont: Font family 'NanumBarunGothic' not found.\n",
      "findfont: Font family 'NanumBarunGothic' not found.\n",
      "findfont: Font family 'NanumBarunGothic' not found.\n",
      "findfont: Font family 'NanumBarunGothic' not found.\n",
      "findfont: Font family 'NanumBarunGothic' not found.\n",
      "findfont: Font family 'NanumBarunGothic' not found.\n",
      "findfont: Font family 'NanumBarunGothic' not found.\n",
      "findfont: Font family 'NanumBarunGothic' not found.\n",
      "findfont: Font family 'NanumBarunGothic' not found.\n",
      "findfont: Font family 'NanumBarunGothic' not found.\n",
      "findfont: Font family 'NanumBarunGothic' not found.\n",
      "findfont: Font family 'NanumBarunGothic' not found.\n",
      "findfont: Font family 'NanumBarunGothic' not found.\n",
      "findfont: Font family 'NanumBarunGothic' not found.\n",
      "findfont: Font family 'NanumBarunGothic' not found.\n",
      "findfont: Font family 'NanumBarunGothic' not found.\n",
      "findfont: Font family 'NanumBarunGothic' not found.\n",
      "findfont: Font family 'NanumBarunGothic' not found.\n",
      "findfont: Font family 'NanumBarunGothic' not found.\n",
      "findfont: Font family 'NanumBarunGothic' not found.\n",
      "findfont: Font family 'NanumBarunGothic' not found.\n",
      "findfont: Font family 'NanumBarunGothic' not found.\n",
      "findfont: Font family 'NanumBarunGothic' not found.\n",
      "findfont: Font family 'NanumBarunGothic' not found.\n",
      "findfont: Font family 'NanumBarunGothic' not found.\n",
      "findfont: Font family 'NanumBarunGothic' not found.\n",
      "findfont: Font family 'NanumBarunGothic' not found.\n",
      "findfont: Font family 'NanumBarunGothic' not found.\n",
      "findfont: Font family 'NanumBarunGothic' not found.\n",
      "findfont: Font family 'NanumBarunGothic' not found.\n",
      "findfont: Font family 'NanumBarunGothic' not found.\n",
      "findfont: Font family 'NanumBarunGothic' not found.\n",
      "findfont: Font family 'NanumBarunGothic' not found.\n",
      "findfont: Font family 'NanumBarunGothic' not found.\n",
      "findfont: Font family 'NanumBarunGothic' not found.\n",
      "findfont: Font family 'NanumBarunGothic' not found.\n",
      "findfont: Font family 'NanumBarunGothic' not found.\n",
      "findfont: Font family 'NanumBarunGothic' not found.\n",
      "findfont: Font family 'NanumBarunGothic' not found.\n",
      "findfont: Font family 'NanumBarunGothic' not found.\n",
      "findfont: Font family 'NanumBarunGothic' not found.\n",
      "findfont: Font family 'NanumBarunGothic' not found.\n",
      "findfont: Font family 'NanumBarunGothic' not found.\n",
      "findfont: Font family 'NanumBarunGothic' not found.\n",
      "findfont: Font family 'NanumBarunGothic' not found.\n",
      "findfont: Font family 'NanumBarunGothic' not found.\n",
      "findfont: Font family 'NanumBarunGothic' not found.\n",
      "findfont: Font family 'NanumBarunGothic' not found.\n",
      "findfont: Font family 'NanumBarunGothic' not found.\n",
      "findfont: Font family 'NanumBarunGothic' not found.\n",
      "findfont: Font family 'NanumBarunGothic' not found.\n",
      "findfont: Font family 'NanumBarunGothic' not found.\n",
      "findfont: Font family 'NanumBarunGothic' not found.\n",
      "findfont: Font family 'NanumBarunGothic' not found.\n",
      "findfont: Font family 'NanumBarunGothic' not found.\n",
      "findfont: Font family 'NanumBarunGothic' not found.\n",
      "findfont: Font family 'NanumBarunGothic' not found.\n",
      "findfont: Font family 'NanumBarunGothic' not found.\n",
      "findfont: Font family 'NanumBarunGothic' not found.\n",
      "findfont: Font family 'NanumBarunGothic' not found.\n",
      "findfont: Font family 'NanumBarunGothic' not found.\n",
      "findfont: Font family 'NanumBarunGothic' not found.\n",
      "findfont: Font family 'NanumBarunGothic' not found.\n",
      "findfont: Font family 'NanumBarunGothic' not found.\n",
      "findfont: Font family 'NanumBarunGothic' not found.\n",
      "findfont: Font family 'NanumBarunGothic' not found.\n",
      "findfont: Font family 'NanumBarunGothic' not found.\n",
      "findfont: Font family 'NanumBarunGothic' not found.\n",
      "findfont: Font family 'NanumBarunGothic' not found.\n",
      "findfont: Font family 'NanumBarunGothic' not found.\n",
      "findfont: Font family 'NanumBarunGothic' not found.\n",
      "findfont: Font family 'NanumBarunGothic' not found.\n",
      "findfont: Font family 'NanumBarunGothic' not found.\n",
      "findfont: Font family 'NanumBarunGothic' not found.\n",
      "findfont: Font family 'NanumBarunGothic' not found.\n",
      "findfont: Font family 'NanumBarunGothic' not found.\n",
      "findfont: Font family 'NanumBarunGothic' not found.\n",
      "findfont: Font family 'NanumBarunGothic' not found.\n",
      "findfont: Font family 'NanumBarunGothic' not found.\n",
      "findfont: Font family 'NanumBarunGothic' not found.\n",
      "findfont: Font family 'NanumBarunGothic' not found.\n",
      "findfont: Font family 'NanumBarunGothic' not found.\n",
      "findfont: Font family 'NanumBarunGothic' not found.\n",
      "findfont: Font family 'NanumBarunGothic' not found.\n",
      "findfont: Font family 'NanumBarunGothic' not found.\n",
      "findfont: Font family 'NanumBarunGothic' not found.\n",
      "findfont: Font family 'NanumBarunGothic' not found.\n",
      "findfont: Font family 'NanumBarunGothic' not found.\n",
      "findfont: Font family 'NanumBarunGothic' not found.\n",
      "findfont: Font family 'NanumBarunGothic' not found.\n"
     ]
    },
    {
     "data": {
      "image/png": "[encoded data removed]",
      "text/plain": [
       "<Figure size 1500x400 with 1 Axes>"
      ]
     },
     "metadata": {},
     "output_type": "display_data"
    }
   ],
   "source": [
    "plt.figure(figsize=(15,4))\n",
    "plt.title(\"각 자치구별 쓰레기무단투기 CCTV 갯수\", fontsize = 10)\n",
    "\n",
    "plt.barh(cctv['구분'], cctv['쓰레기무단투기'])\n",
    "plt.show()"
   ]
  },
  {
   "cell_type": "markdown",
   "metadata": {
    "id": "nw87vp7qgNlN"
   },
   "source": [
    "# CCTV 시각화 - boxplot"
   ]
  },
  {
   "cell_type": "code",
   "execution_count": 93,
   "metadata": {
    "colab": {
     "base_uri": "https://localhost:8080/",
     "height": 278
    },
    "id": "KNwmWY5denof",
    "outputId": "d10be567-f961-4f99-99c9-b015eb30d976"
   },
   "outputs": [
    {
     "name": "stderr",
     "output_type": "stream",
     "text": [
      "findfont: Font family 'NanumBarunGothic' not found.\n",
      "findfont: Font family 'NanumBarunGothic' not found.\n",
      "findfont: Font family 'NanumBarunGothic' not found.\n",
      "findfont: Font family 'NanumBarunGothic' not found.\n",
      "findfont: Font family 'NanumBarunGothic' not found.\n",
      "findfont: Font family 'NanumBarunGothic' not found.\n",
      "findfont: Font family 'NanumBarunGothic' not found.\n",
      "findfont: Font family 'NanumBarunGothic' not found.\n",
      "C:\\Users\\User\\AppData\\Local\\Programs\\Python\\Python310\\lib\\site-packages\\IPython\\core\\pylabtools.py:152: UserWarning: Glyph 44033 (\\N{HANGUL SYLLABLE GAG}) missing from current font.\n",
      "  fig.canvas.print_figure(bytes_io, **kw)\n",
      "C:\\Users\\User\\AppData\\Local\\Programs\\Python\\Python310\\lib\\site-packages\\IPython\\core\\pylabtools.py:152: UserWarning: Glyph 44592 (\\N{HANGUL SYLLABLE GI}) missing from current font.\n",
      "  fig.canvas.print_figure(bytes_io, **kw)\n",
      "C:\\Users\\User\\AppData\\Local\\Programs\\Python\\Python310\\lib\\site-packages\\IPython\\core\\pylabtools.py:152: UserWarning: Glyph 44288 (\\N{HANGUL SYLLABLE GWAN}) missing from current font.\n",
      "  fig.canvas.print_figure(bytes_io, **kw)\n",
      "C:\\Users\\User\\AppData\\Local\\Programs\\Python\\Python310\\lib\\site-packages\\IPython\\core\\pylabtools.py:152: UserWarning: Glyph 48324 (\\N{HANGUL SYLLABLE BYEOL}) missing from current font.\n",
      "  fig.canvas.print_figure(bytes_io, **kw)\n",
      "C:\\Users\\User\\AppData\\Local\\Programs\\Python\\Python310\\lib\\site-packages\\IPython\\core\\pylabtools.py:152: UserWarning: Glyph 53685 (\\N{HANGUL SYLLABLE TONG}) missing from current font.\n",
      "  fig.canvas.print_figure(bytes_io, **kw)\n",
      "C:\\Users\\User\\AppData\\Local\\Programs\\Python\\Python310\\lib\\site-packages\\IPython\\core\\pylabtools.py:152: UserWarning: Glyph 44228 (\\N{HANGUL SYLLABLE GYE}) missing from current font.\n",
      "  fig.canvas.print_figure(bytes_io, **kw)\n",
      "findfont: Font family 'NanumBarunGothic' not found.\n",
      "findfont: Font family 'NanumBarunGothic' not found.\n",
      "findfont: Font family 'NanumBarunGothic' not found.\n",
      "findfont: Font family 'NanumBarunGothic' not found.\n",
      "findfont: Font family 'NanumBarunGothic' not found.\n",
      "findfont: Font family 'NanumBarunGothic' not found.\n",
      "findfont: Font family 'NanumBarunGothic' not found.\n",
      "findfont: Font family 'NanumBarunGothic' not found.\n",
      "findfont: Font family 'NanumBarunGothic' not found.\n",
      "findfont: Font family 'NanumBarunGothic' not found.\n",
      "findfont: Font family 'NanumBarunGothic' not found.\n",
      "findfont: Font family 'NanumBarunGothic' not found.\n",
      "findfont: Font family 'NanumBarunGothic' not found.\n",
      "findfont: Font family 'NanumBarunGothic' not found.\n",
      "findfont: Font family 'NanumBarunGothic' not found.\n",
      "findfont: Font family 'NanumBarunGothic' not found.\n",
      "findfont: Font family 'NanumBarunGothic' not found.\n",
      "findfont: Font family 'NanumBarunGothic' not found.\n"
     ]
    },
    {
     "data": {
      "image/png": "[encoded data removed]",
      "text/plain": [
       "<Figure size 640x480 with 1 Axes>"
      ]
     },
     "metadata": {},
     "output_type": "display_data"
    }
   ],
   "source": [
    "plt.title(\"각 기관별 CCTV통계\", fontsize = 10)\n",
    "plt.grid(True)\n",
    "plt.boxplot(cctv['총계'])\n",
    "plt.show()"
   ]
  },
  {
   "cell_type": "markdown",
   "metadata": {
    "id": "cAL695EWgThF"
   },
   "source": [
    "# 데이터의 평균값"
   ]
  },
  {
   "cell_type": "markdown",
   "metadata": {
    "colab": {
     "base_uri": "https://localhost:8080/"
    },
    "id": "i7bSj1rCe7EH",
    "outputId": "6bf6d19f-c61b-4b44-bdcb-c7ffd7621515"
   },
   "source": [
    "import numpy as np\n",
    "avg = np.mean(cctv['총계'])\n",
    "avg"
   ]
  },
  {
   "cell_type": "code",
   "execution_count": 98,
   "metadata": {},
   "outputs": [
    {
     "data": {
      "text/plain": [
       "구분            강남구\n",
       "총계           1715\n",
       "방범           1048\n",
       "어린이보호구역        39\n",
       "공원·놀이터        131\n",
       "쓰레기무단투기       0.0\n",
       "시설안전·화재예방     0.0\n",
       "교통단속           43\n",
       "교통정보수집·분석     0.0\n",
       "기타다른법령        0.0\n",
       "dtype: object"
      ]
     },
     "execution_count": 98,
     "metadata": {},
     "output_type": "execute_result"
    }
   ],
   "source": [
    "cctv.min()"
   ]
  },
  {
   "cell_type": "code",
   "execution_count": 100,
   "metadata": {},
   "outputs": [
    {
     "data": {
      "text/plain": [
       "구분             중랑구\n",
       "총계            6871\n",
       "방범            4839\n",
       "어린이보호구역        829\n",
       "공원·놀이터         554\n",
       "쓰레기무단투기      378.0\n",
       "시설안전·화재예방    673.0\n",
       "교통단속           643\n",
       "교통정보수집·분석    106.0\n",
       "기타다른법령       443.0\n",
       "dtype: object"
      ]
     },
     "execution_count": 100,
     "metadata": {},
     "output_type": "execute_result"
    }
   ],
   "source": [
    "cctv.max()"
   ]
  },
  {
   "cell_type": "code",
   "execution_count": 101,
   "metadata": {},
   "outputs": [
    {
     "data": {
      "text/plain": [
       "<bound method NDFrame._add_numeric_operations.<locals>.median of       구분    총계    방범  어린이보호구역  공원·놀이터  쓰레기무단투기  시설안전·화재예방  교통단속  교통정보수집·분석  \\\n",
       "0    종로구  1715  1403       39     131      0.0       19.0   123        0.0   \n",
       "1     중구  2447  1572       76     201     62.0       62.0   307        8.0   \n",
       "2    용산구  2611  1934      235     152      0.0        0.0   290        0.0   \n",
       "3    성동구  3829  2600      573     196    150.0       12.0   298        0.0   \n",
       "4    광진구  3211  2267      625     150     69.0       24.0    76        0.0   \n",
       "5   동대문구  2628  1981      282     180     28.0        1.0   142        0.0   \n",
       "6    중랑구  3737  3282      141     158     11.0       64.0    81        0.0   \n",
       "7    성북구  4602  2792      432     213    378.0      555.0   214       18.0   \n",
       "8    강북구  3090  2138      343     189    290.0       34.0    96        0.0   \n",
       "9    도봉구  1930  1048      216     279    141.0      153.0    93        0.0   \n",
       "10   노원구  2492  1341      260     445    125.0      173.0   148        0.0   \n",
       "11   은평구  4131  2608      749     465      0.0      161.0   125        0.0   \n",
       "12  서대문구  3055  1904      140     547      0.0      101.0   331        0.0   \n",
       "13   마포구  2496  2010      195     167      0.0        0.0   124        0.0   \n",
       "14   양천구  3650  2253      829     311      0.0        0.0   151      106.0   \n",
       "15   강서구  2744  2211      218     181     27.0        0.0   107        0.0   \n",
       "16   구로구  4608  2872      538     403     29.0      230.0   387        0.0   \n",
       "17   금천구  2411  1783      267     182     44.0        0.0   135        0.0   \n",
       "18   영등포  4056  3048      271     189      0.0        5.0   543        0.0   \n",
       "19   동작구  2306  1621      395     146     19.0       82.0    43        0.0   \n",
       "20   관악구  5149  2686      259     297    148.0      673.0   643        0.0   \n",
       "21   서초구  4082  2993      207     242      0.0      142.0   372        0.0   \n",
       "22   강남구  6871  4839      784     520      0.0      116.0   612        0.0   \n",
       "23   송파구  2897  1648      318     554      0.0       87.0   290        0.0   \n",
       "24   강동구  2809  2327      232     161      0.0        0.0    89        0.0   \n",
       "\n",
       "    기타다른법령  \n",
       "0      0.0  \n",
       "1    159.0  \n",
       "2      0.0  \n",
       "3      0.0  \n",
       "4      0.0  \n",
       "5     14.0  \n",
       "6      0.0  \n",
       "7      0.0  \n",
       "8      0.0  \n",
       "9      0.0  \n",
       "10     0.0  \n",
       "11    23.0  \n",
       "12    32.0  \n",
       "13     0.0  \n",
       "14     0.0  \n",
       "15     0.0  \n",
       "16   149.0  \n",
       "17     0.0  \n",
       "18     0.0  \n",
       "19     0.0  \n",
       "20   443.0  \n",
       "21   126.0  \n",
       "22     0.0  \n",
       "23     0.0  \n",
       "24     0.0  >"
      ]
     },
     "execution_count": 101,
     "metadata": {},
     "output_type": "execute_result"
    }
   ],
   "source": [
    "cctv.median"
   ]
  },
  {
   "cell_type": "code",
   "execution_count": 102,
   "metadata": {},
   "outputs": [
    {
     "data": {
      "text/html": [
       "<div>\n",
       "<style scoped>\n",
       "    .dataframe tbody tr th:only-of-type {\n",
       "        vertical-align: middle;\n",
       "    }\n",
       "\n",
       "    .dataframe tbody tr th {\n",
       "        vertical-align: top;\n",
       "    }\n",
       "\n",
       "    .dataframe thead th {\n",
       "        text-align: right;\n",
       "    }\n",
       "</style>\n",
       "<table border=\"1\" class=\"dataframe\">\n",
       "  <thead>\n",
       "    <tr style=\"text-align: right;\">\n",
       "      <th></th>\n",
       "      <th>총계</th>\n",
       "      <th>방범</th>\n",
       "      <th>어린이보호구역</th>\n",
       "      <th>공원·놀이터</th>\n",
       "      <th>쓰레기무단투기</th>\n",
       "      <th>시설안전·화재예방</th>\n",
       "      <th>교통단속</th>\n",
       "      <th>교통정보수집·분석</th>\n",
       "      <th>기타다른법령</th>\n",
       "    </tr>\n",
       "  </thead>\n",
       "  <tbody>\n",
       "    <tr>\n",
       "      <th>count</th>\n",
       "      <td>25.000000</td>\n",
       "      <td>25.000000</td>\n",
       "      <td>25.000000</td>\n",
       "      <td>25.000000</td>\n",
       "      <td>25.000000</td>\n",
       "      <td>25.000000</td>\n",
       "      <td>25.00000</td>\n",
       "      <td>25.000000</td>\n",
       "      <td>25.000000</td>\n",
       "    </tr>\n",
       "    <tr>\n",
       "      <th>mean</th>\n",
       "      <td>3342.280000</td>\n",
       "      <td>2286.440000</td>\n",
       "      <td>344.960000</td>\n",
       "      <td>266.360000</td>\n",
       "      <td>60.840000</td>\n",
       "      <td>107.760000</td>\n",
       "      <td>232.80000</td>\n",
       "      <td>5.280000</td>\n",
       "      <td>37.840000</td>\n",
       "    </tr>\n",
       "    <tr>\n",
       "      <th>std</th>\n",
       "      <td>1153.698745</td>\n",
       "      <td>786.319119</td>\n",
       "      <td>218.670124</td>\n",
       "      <td>138.081461</td>\n",
       "      <td>97.410934</td>\n",
       "      <td>167.222975</td>\n",
       "      <td>171.19117</td>\n",
       "      <td>21.337604</td>\n",
       "      <td>96.944864</td>\n",
       "    </tr>\n",
       "    <tr>\n",
       "      <th>min</th>\n",
       "      <td>1715.000000</td>\n",
       "      <td>1048.000000</td>\n",
       "      <td>39.000000</td>\n",
       "      <td>131.000000</td>\n",
       "      <td>0.000000</td>\n",
       "      <td>0.000000</td>\n",
       "      <td>43.00000</td>\n",
       "      <td>0.000000</td>\n",
       "      <td>0.000000</td>\n",
       "    </tr>\n",
       "    <tr>\n",
       "      <th>25%</th>\n",
       "      <td>2496.000000</td>\n",
       "      <td>1783.000000</td>\n",
       "      <td>216.000000</td>\n",
       "      <td>167.000000</td>\n",
       "      <td>0.000000</td>\n",
       "      <td>1.000000</td>\n",
       "      <td>107.00000</td>\n",
       "      <td>0.000000</td>\n",
       "      <td>0.000000</td>\n",
       "    </tr>\n",
       "    <tr>\n",
       "      <th>50%</th>\n",
       "      <td>3055.000000</td>\n",
       "      <td>2211.000000</td>\n",
       "      <td>267.000000</td>\n",
       "      <td>196.000000</td>\n",
       "      <td>19.000000</td>\n",
       "      <td>62.000000</td>\n",
       "      <td>148.00000</td>\n",
       "      <td>0.000000</td>\n",
       "      <td>0.000000</td>\n",
       "    </tr>\n",
       "    <tr>\n",
       "      <th>75%</th>\n",
       "      <td>4056.000000</td>\n",
       "      <td>2686.000000</td>\n",
       "      <td>432.000000</td>\n",
       "      <td>311.000000</td>\n",
       "      <td>69.000000</td>\n",
       "      <td>142.000000</td>\n",
       "      <td>307.00000</td>\n",
       "      <td>0.000000</td>\n",
       "      <td>14.000000</td>\n",
       "    </tr>\n",
       "    <tr>\n",
       "      <th>max</th>\n",
       "      <td>6871.000000</td>\n",
       "      <td>4839.000000</td>\n",
       "      <td>829.000000</td>\n",
       "      <td>554.000000</td>\n",
       "      <td>378.000000</td>\n",
       "      <td>673.000000</td>\n",
       "      <td>643.00000</td>\n",
       "      <td>106.000000</td>\n",
       "      <td>443.000000</td>\n",
       "    </tr>\n",
       "  </tbody>\n",
       "</table>\n",
       "</div>"
      ],
      "text/plain": [
       "                총계           방범     어린이보호구역      공원·놀이터     쓰레기무단투기  \\\n",
       "count    25.000000    25.000000   25.000000   25.000000   25.000000   \n",
       "mean   3342.280000  2286.440000  344.960000  266.360000   60.840000   \n",
       "std    1153.698745   786.319119  218.670124  138.081461   97.410934   \n",
       "min    1715.000000  1048.000000   39.000000  131.000000    0.000000   \n",
       "25%    2496.000000  1783.000000  216.000000  167.000000    0.000000   \n",
       "50%    3055.000000  2211.000000  267.000000  196.000000   19.000000   \n",
       "75%    4056.000000  2686.000000  432.000000  311.000000   69.000000   \n",
       "max    6871.000000  4839.000000  829.000000  554.000000  378.000000   \n",
       "\n",
       "        시설안전·화재예방       교통단속   교통정보수집·분석      기타다른법령  \n",
       "count   25.000000   25.00000   25.000000   25.000000  \n",
       "mean   107.760000  232.80000    5.280000   37.840000  \n",
       "std    167.222975  171.19117   21.337604   96.944864  \n",
       "min      0.000000   43.00000    0.000000    0.000000  \n",
       "25%      1.000000  107.00000    0.000000    0.000000  \n",
       "50%     62.000000  148.00000    0.000000    0.000000  \n",
       "75%    142.000000  307.00000    0.000000   14.000000  \n",
       "max    673.000000  643.00000  106.000000  443.000000  "
      ]
     },
     "execution_count": 102,
     "metadata": {},
     "output_type": "execute_result"
    }
   ],
   "source": [
    "cctv.describe()"
   ]
  },
  {
   "cell_type": "code",
   "execution_count": 99,
   "metadata": {
    "colab": {
     "base_uri": "https://localhost:8080/",
     "height": 283
    },
    "id": "HscCDeJhgbu0",
    "outputId": "c78b3b8e-84b9-429b-d954-abf78a8653df",
    "scrolled": true
   },
   "outputs": [
    {
     "name": "stderr",
     "output_type": "stream",
     "text": [
      "findfont: Font family 'NanumBarunGothic' not found.\n",
      "findfont: Font family 'NanumBarunGothic' not found.\n",
      "findfont: Font family 'NanumBarunGothic' not found.\n",
      "findfont: Font family 'NanumBarunGothic' not found.\n",
      "findfont: Font family 'NanumBarunGothic' not found.\n",
      "findfont: Font family 'NanumBarunGothic' not found.\n",
      "findfont: Font family 'NanumBarunGothic' not found.\n",
      "findfont: Font family 'NanumBarunGothic' not found.\n",
      "findfont: Font family 'NanumBarunGothic' not found.\n",
      "C:\\Users\\User\\AppData\\Local\\Programs\\Python\\Python310\\lib\\site-packages\\IPython\\core\\pylabtools.py:152: UserWarning: Glyph 44033 (\\N{HANGUL SYLLABLE GAG}) missing from current font.\n",
      "  fig.canvas.print_figure(bytes_io, **kw)\n",
      "C:\\Users\\User\\AppData\\Local\\Programs\\Python\\Python310\\lib\\site-packages\\IPython\\core\\pylabtools.py:152: UserWarning: Glyph 44592 (\\N{HANGUL SYLLABLE GI}) missing from current font.\n",
      "  fig.canvas.print_figure(bytes_io, **kw)\n",
      "C:\\Users\\User\\AppData\\Local\\Programs\\Python\\Python310\\lib\\site-packages\\IPython\\core\\pylabtools.py:152: UserWarning: Glyph 44288 (\\N{HANGUL SYLLABLE GWAN}) missing from current font.\n",
      "  fig.canvas.print_figure(bytes_io, **kw)\n",
      "C:\\Users\\User\\AppData\\Local\\Programs\\Python\\Python310\\lib\\site-packages\\IPython\\core\\pylabtools.py:152: UserWarning: Glyph 48324 (\\N{HANGUL SYLLABLE BYEOL}) missing from current font.\n",
      "  fig.canvas.print_figure(bytes_io, **kw)\n",
      "C:\\Users\\User\\AppData\\Local\\Programs\\Python\\Python310\\lib\\site-packages\\IPython\\core\\pylabtools.py:152: UserWarning: Glyph 52509 (\\N{HANGUL SYLLABLE CONG}) missing from current font.\n",
      "  fig.canvas.print_figure(bytes_io, **kw)\n",
      "C:\\Users\\User\\AppData\\Local\\Programs\\Python\\Python310\\lib\\site-packages\\IPython\\core\\pylabtools.py:152: UserWarning: Glyph 44228 (\\N{HANGUL SYLLABLE GYE}) missing from current font.\n",
      "  fig.canvas.print_figure(bytes_io, **kw)\n",
      "findfont: Font family 'NanumBarunGothic' not found.\n",
      "findfont: Font family 'NanumBarunGothic' not found.\n",
      "findfont: Font family 'NanumBarunGothic' not found.\n",
      "findfont: Font family 'NanumBarunGothic' not found.\n",
      "findfont: Font family 'NanumBarunGothic' not found.\n",
      "findfont: Font family 'NanumBarunGothic' not found.\n",
      "findfont: Font family 'NanumBarunGothic' not found.\n",
      "findfont: Font family 'NanumBarunGothic' not found.\n",
      "findfont: Font family 'NanumBarunGothic' not found.\n",
      "findfont: Font family 'NanumBarunGothic' not found.\n",
      "findfont: Font family 'NanumBarunGothic' not found.\n",
      "findfont: Font family 'NanumBarunGothic' not found.\n",
      "findfont: Font family 'NanumBarunGothic' not found.\n",
      "findfont: Font family 'NanumBarunGothic' not found.\n",
      "findfont: Font family 'NanumBarunGothic' not found.\n",
      "findfont: Font family 'NanumBarunGothic' not found.\n",
      "findfont: Font family 'NanumBarunGothic' not found.\n",
      "findfont: Font family 'NanumBarunGothic' not found.\n",
      "findfont: Font family 'NanumBarunGothic' not found.\n",
      "findfont: Font family 'NanumBarunGothic' not found.\n",
      "findfont: Font family 'NanumBarunGothic' not found.\n",
      "findfont: Font family 'NanumBarunGothic' not found.\n",
      "findfont: Font family 'NanumBarunGothic' not found.\n",
      "findfont: Font family 'NanumBarunGothic' not found.\n",
      "findfont: Font family 'NanumBarunGothic' not found.\n",
      "findfont: Font family 'NanumBarunGothic' not found.\n",
      "findfont: Font family 'NanumBarunGothic' not found.\n",
      "findfont: Font family 'NanumBarunGothic' not found.\n",
      "findfont: Font family 'NanumBarunGothic' not found.\n",
      "findfont: Font family 'NanumBarunGothic' not found.\n",
      "findfont: Font family 'NanumBarunGothic' not found.\n",
      "findfont: Font family 'NanumBarunGothic' not found.\n",
      "findfont: Font family 'NanumBarunGothic' not found.\n",
      "findfont: Font family 'NanumBarunGothic' not found.\n"
     ]
    },
    {
     "data": {
      "image/png": "[encoded data removed]",
      "text/plain": [
       "<Figure size 640x480 with 1 Axes>"
      ]
     },
     "metadata": {},
     "output_type": "display_data"
    }
   ],
   "source": [
    "plt.title('각 기관별 CCTV 총계', fontsize = 15)\n",
    "plt.hist(cctv['총계'], bins=20)\n",
    "plt.show()"
   ]
  }
 ],
 "metadata": {
  "colab": {
   "provenance": []
  },
  "kernelspec": {
   "display_name": "Python 3 (ipykernel)",
   "language": "python",
   "name": "python3"
  },
  "language_info": {
   "codemirror_mode": {
    "name": "ipython",
    "version": 3
   },
   "file_extension": ".py",
   "mimetype": "text/x-python",
   "name": "python",
   "nbconvert_exporter": "python",
   "pygments_lexer": "ipython3",
   "version": "3.10.1"
  }
 },
 "nbformat": 4,
 "nbformat_minor": 1
}
