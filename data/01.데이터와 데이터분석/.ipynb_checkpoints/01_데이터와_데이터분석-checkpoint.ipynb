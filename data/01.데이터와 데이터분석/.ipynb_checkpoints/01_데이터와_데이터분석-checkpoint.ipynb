{
 "cells": [
  {
   "cell_type": "code",
   "execution_count": 1,
   "metadata": {},
   "outputs": [
    {
     "name": "stdout",
     "output_type": "stream",
     "text": [
      "Requirement already satisfied: matplotlib in c:\\users\\user\\appdata\\local\\programs\\python\\python310\\lib\\site-packages (3.7.2)\n",
      "Requirement already satisfied: kiwisolver>=1.0.1 in c:\\users\\user\\appdata\\local\\programs\\python\\python310\\lib\\site-packages (from matplotlib) (1.4.4)\n",
      "Requirement already satisfied: fonttools>=4.22.0 in c:\\users\\user\\appdata\\local\\programs\\python\\python310\\lib\\site-packages (from matplotlib) (4.41.1)\n",
      "Requirement already satisfied: cycler>=0.10 in c:\\users\\user\\appdata\\local\\programs\\python\\python310\\lib\\site-packages (from matplotlib) (0.11.0)\n",
      "Requirement already satisfied: packaging>=20.0 in c:\\users\\user\\appdata\\local\\programs\\python\\python310\\lib\\site-packages (from matplotlib) (23.0)\n",
      "Requirement already satisfied: python-dateutil>=2.7 in c:\\users\\user\\appdata\\local\\programs\\python\\python310\\lib\\site-packages (from matplotlib) (2.8.2)\n",
      "Requirement already satisfied: numpy>=1.20 in c:\\users\\user\\appdata\\local\\programs\\python\\python310\\lib\\site-packages (from matplotlib) (1.25.1)\n",
      "Requirement already satisfied: pyparsing<3.1,>=2.3.1 in c:\\users\\user\\appdata\\local\\programs\\python\\python310\\lib\\site-packages (from matplotlib) (3.0.9)\n",
      "Requirement already satisfied: pillow>=6.2.0 in c:\\users\\user\\appdata\\local\\programs\\python\\python310\\lib\\site-packages (from matplotlib) (10.0.0)\n",
      "Requirement already satisfied: contourpy>=1.0.1 in c:\\users\\user\\appdata\\local\\programs\\python\\python310\\lib\\site-packages (from matplotlib) (1.1.0)\n",
      "Requirement already satisfied: six>=1.5 in c:\\users\\user\\appdata\\local\\programs\\python\\python310\\lib\\site-packages (from python-dateutil>=2.7->matplotlib) (1.16.0)\n"
     ]
    },
    {
     "name": "stderr",
     "output_type": "stream",
     "text": [
      "WARNING: You are using pip version 21.2.4; however, version 23.2 is available.\n",
      "You should consider upgrading via the 'C:\\Users\\User\\AppData\\Local\\Programs\\Python\\Python310\\python.exe -m pip install --upgrade pip' command.\n"
     ]
    },
    {
     "name": "stdout",
     "output_type": "stream",
     "text": [
      "Requirement already satisfied: pandas in c:\\users\\user\\appdata\\local\\programs\\python\\python310\\lib\\site-packages (2.0.3)\n",
      "Requirement already satisfied: tzdata>=2022.1 in c:\\users\\user\\appdata\\local\\programs\\python\\python310\\lib\\site-packages (from pandas) (2023.3)\n",
      "Requirement already satisfied: pytz>=2020.1 in c:\\users\\user\\appdata\\local\\programs\\python\\python310\\lib\\site-packages (from pandas) (2023.3)\n",
      "Requirement already satisfied: numpy>=1.21.0 in c:\\users\\user\\appdata\\local\\programs\\python\\python310\\lib\\site-packages (from pandas) (1.25.1)\n",
      "Requirement already satisfied: python-dateutil>=2.8.2 in c:\\users\\user\\appdata\\local\\programs\\python\\python310\\lib\\site-packages (from pandas) (2.8.2)\n",
      "Requirement already satisfied: six>=1.5 in c:\\users\\user\\appdata\\local\\programs\\python\\python310\\lib\\site-packages (from python-dateutil>=2.8.2->pandas) (1.16.0)\n"
     ]
    },
    {
     "name": "stderr",
     "output_type": "stream",
     "text": [
      "WARNING: You are using pip version 21.2.4; however, version 23.2 is available.\n",
      "You should consider upgrading via the 'C:\\Users\\User\\AppData\\Local\\Programs\\Python\\Python310\\python.exe -m pip install --upgrade pip' command.\n"
     ]
    }
   ],
   "source": [
    "!pip install matplotlib\n",
    "!pip install pandas"
   ]
  },
  {
   "cell_type": "markdown",
   "metadata": {
    "id": "W16DXItoZgS-"
   },
   "source": [
    "# matplotlib 선 그래프 그리기"
   ]
  },
  {
   "cell_type": "code",
   "execution_count": 2,
   "metadata": {
    "colab": {
     "base_uri": "https://localhost:8080/",
     "height": 265
    },
    "id": "rVA29kd7ZnsZ",
    "outputId": "6786648d-2636-4298-fa56-93941a495d72"
   },
   "outputs": [],
   "source": [
    "import matplotlib.pyplot as plt\n",
    "plt.plot([1,2,3,4,5],[7,8,9,10,15])\n",
    "plt.show()"
   ]
  },
  {
   "cell_type": "code",
   "execution_count": 3,
   "metadata": {
    "colab": {
     "base_uri": "https://localhost:8080/",
     "height": 265
    },
    "id": "Wvg8SBwmZzn4",
    "outputId": "247fbca5-a72d-4607-c207-86380404c397"
   },
   "outputs": [],
   "source": [
    "x = [1,2,3,4,5]\n",
    "y = [10,4,7,2,-1]\n",
    "plt.plot(x,y)\n",
    "plt.show()"
   ]
  },
  {
   "cell_type": "code",
   "execution_count": 5,
   "metadata": {
    "colab": {
     "base_uri": "https://localhost:8080/",
     "height": 355
    },
    "id": "eA_OgyX1Z-4m",
    "outputId": "6570c571-03f4-403e-af64-a1358a8d9634"
   },
   "outputs": [],
   "source": [
    "plt.figure(figsize=(10,5))\n",
    "plt.title(\"Graph\", fontsize=20)\n",
    "plt.xlabel(\"x data\")\n",
    "plt.ylabel(\"y label\")\n",
    "\n",
    "x = [1,2,3,4,5]\n",
    "y = [10,4,7,2,-1]\n",
    "plt.plot(x,y)\n",
    "plt.show()"
   ]
  },
  {
   "cell_type": "markdown",
   "metadata": {
    "id": "RtKDSfG4fUGy"
   },
   "source": [
    "# 막대그래프 그리기"
   ]
  },
  {
   "cell_type": "code",
   "execution_count": 6,
   "metadata": {
    "colab": {
     "base_uri": "https://localhost:8080/",
     "height": 265
    },
    "id": "pqSHTuNXaW73",
    "outputId": "95a90c82-9da0-4a5e-d060-1c5ad42445dc"
   },
   "outputs": [],
   "source": [
    "plt.bar(x,y)\n",
    "plt.show()"
   ]
  },
  {
   "cell_type": "markdown",
   "metadata": {
    "id": "3PUxtqI-fc7y"
   },
   "source": [
    "# 박스플롯 그리기"
   ]
  },
  {
   "cell_type": "code",
   "execution_count": 7,
   "metadata": {
    "colab": {
     "base_uri": "https://localhost:8080/",
     "height": 283
    },
    "id": "fr_P2Q8VacuY",
    "outputId": "259b69c2-b264-43cd-8538-d902cf4be020"
   },
   "outputs": [],
   "source": [
    "import random\n",
    "y = []\n",
    "for a in range(19):\n",
    "  y.append(random.randint(1,1000))\n",
    "  \n",
    "print(sorted(y))\n",
    "plt.boxplot(y)\n",
    "plt.show()"
   ]
  },
  {
   "cell_type": "markdown",
   "metadata": {
    "id": "NUeVbgnOfi_b"
   },
   "source": [
    "# csv파일 가져오기"
   ]
  },
  {
   "cell_type": "code",
   "execution_count": 8,
   "metadata": {
    "id": "0Ukz5j-ga1Mw"
   },
   "outputs": [],
   "source": [
    "import pandas as pd\n",
    "path = './cctv.csv'\n",
    "cctv = pd.read_csv(path, encoding='cp949')"
   ]
  },
  {
   "cell_type": "markdown",
   "metadata": {
    "id": "GZN2l0Rcftrk"
   },
   "source": [
    "# 데이터 구성정보 알아보기"
   ]
  },
  {
   "cell_type": "code",
   "execution_count": 9,
   "metadata": {
    "colab": {
     "base_uri": "https://localhost:8080/",
     "height": 206
    },
    "id": "wwuZS2SAbrja",
    "outputId": "608eec5d-0eaf-4906-a6b9-0d78f6e0aeb7"
   },
   "outputs": [],
   "source": [
    "cctv.head()"
   ]
  },
  {
   "cell_type": "markdown",
   "metadata": {
    "id": "QwNq5TydfxnX"
   },
   "source": [
    "# 데이터 전처리"
   ]
  },
  {
   "cell_type": "code",
   "execution_count": 10,
   "metadata": {
    "colab": {
     "base_uri": "https://localhost:8080/"
    },
    "id": "YsYGU0vNbtX6",
    "outputId": "f3471f51-ab8f-4147-ff64-fd2c3add8792"
   },
   "outputs": [],
   "source": [
    "cctv.info()"
   ]
  },
  {
   "cell_type": "code",
   "execution_count": 11,
   "metadata": {
    "colab": {
     "base_uri": "https://localhost:8080/"
    },
    "id": "sJSXUiQSb0LL",
    "outputId": "34f557fb-666b-474b-a6b3-897985d2b31a"
   },
   "outputs": [],
   "source": [
    "cctv.isna().sum()"
   ]
  },
  {
   "cell_type": "code",
   "execution_count": 13,
   "metadata": {
    "colab": {
     "base_uri": "https://localhost:8080/"
    },
    "id": "19GG9xCDb71y",
    "outputId": "8bfbad7f-8ab2-4597-bf7d-94fbb8cc83ad"
   },
   "outputs": [],
   "source": [
    "cctv = cctv.fillna(0)\n",
    "cctv.isna().sum()"
   ]
  },
  {
   "cell_type": "code",
   "execution_count": 14,
   "metadata": {
    "colab": {
     "base_uri": "https://localhost:8080/"
    },
    "id": "79Sp98UVcHRL",
    "outputId": "2554ec7d-aa26-4ef6-bc19-e55ffacdb92c"
   },
   "outputs": [],
   "source": [
    "cctv = cctv.dropna()\n",
    "cctv.isna().sum()"
   ]
  },
  {
   "cell_type": "markdown",
   "metadata": {
    "id": "RPkjv7Fif4ze"
   },
   "source": [
    "# 한글 폰트 사용하기"
   ]
  },
  {
   "cell_type": "code",
   "execution_count": 15,
   "metadata": {
    "colab": {
     "base_uri": "https://localhost:8080/"
    },
    "id": "PdY7FO67cOGD",
    "outputId": "22995ee8-6c20-448b-8073-42c474c62290"
   },
   "outputs": [],
   "source": [
    "!sudo apt-get install -y fonts-nanum\n",
    "!sudo fc-cache -fv\n",
    "!rm ~/.cache/matplotlib -rf"
   ]
  },
  {
   "cell_type": "code",
   "execution_count": 16,
   "metadata": {
    "id": "Y_SVt0YeccFr"
   },
   "outputs": [],
   "source": [
    "import matplotlib.pyplot as plt\n",
    "plt.rc('font', family = 'NanumBarunGothic')\n",
    "plt.rc('axes', unicode_minus = False)"
   ]
  },
  {
   "cell_type": "markdown",
   "metadata": {
    "id": "_ueNqifPgBRD"
   },
   "source": [
    "# CCTV 시각화 - 선그래프"
   ]
  },
  {
   "cell_type": "code",
   "execution_count": 17,
   "metadata": {
    "colab": {
     "base_uri": "https://localhost:8080/",
     "height": 333
    },
    "id": "XPSIRGYDcsUv",
    "outputId": "27587f0c-23eb-427d-bb0b-4de8cd6adc48"
   },
   "outputs": [],
   "source": [
    "plt.figure(figsize=(15,5))\n",
    "plt.title('각 자치구별 CCTV 갯수', fontsize =10)\n",
    "\n",
    "plt.plot(cctv['구분'], cctv['총계'])\n",
    "plt.show()"
   ]
  },
  {
   "cell_type": "markdown",
   "metadata": {
    "id": "opV_3GR7gGg8"
   },
   "source": [
    "# CCTV 시각화 - 막대그래프"
   ]
  },
  {
   "cell_type": "code",
   "execution_count": 18,
   "metadata": {
    "colab": {
     "base_uri": "https://localhost:8080/",
     "height": 278
    },
    "id": "USllace-dCC1",
    "outputId": "793bcd96-b15b-4a7d-f372-16e684e78987"
   },
   "outputs": [],
   "source": [
    "plt.figure(figsize=(15,4))\n",
    "plt.title(\"각 자치구별 쓰레기무단투기 CCTV 갯수\", fontsize = 10)\n",
    "\n",
    "plt.bar(cctv['구분'], cctv['쓰레기무단투기'])\n",
    "plt.show()"
   ]
  },
  {
   "cell_type": "markdown",
   "metadata": {
    "id": "nw87vp7qgNlN"
   },
   "source": [
    "# CCTV 시각화 - boxplot"
   ]
  },
  {
   "cell_type": "code",
   "execution_count": 19,
   "metadata": {
    "colab": {
     "base_uri": "https://localhost:8080/",
     "height": 278
    },
    "id": "KNwmWY5denof",
    "outputId": "d10be567-f961-4f99-99c9-b015eb30d976"
   },
   "outputs": [],
   "source": [
    "plt.title(\"각 기관별 CCTV통계\", fontsize = 10)\n",
    "plt.grid(True)\n",
    "plt.boxplot(cctv['총계'])\n",
    "plt.show()"
   ]
  },
  {
   "cell_type": "markdown",
   "metadata": {
    "id": "cAL695EWgThF"
   },
   "source": [
    "# 데이터의 평균값"
   ]
  },
  {
   "cell_type": "code",
   "execution_count": 20,
   "metadata": {
    "colab": {
     "base_uri": "https://localhost:8080/"
    },
    "id": "i7bSj1rCe7EH",
    "outputId": "6bf6d19f-c61b-4b44-bdcb-c7ffd7621515"
   },
   "outputs": [],
   "source": [
    "import numpy as np\n",
    "avg = np.mean(cctv['총계'])\n",
    "avg"
   ]
  },
  {
   "cell_type": "code",
   "execution_count": 21,
   "metadata": {
    "colab": {
     "base_uri": "https://localhost:8080/",
     "height": 283
    },
    "id": "HscCDeJhgbu0",
    "outputId": "c78b3b8e-84b9-429b-d954-abf78a8653df"
   },
   "outputs": [],
   "source": [
    "plt.title('각 기관별 CCTV 총계', fontsize = 15)\n",
    "plt.hist(cctv['총계'], bins=20)\n",
    "plt.show()"
   ]
  }
 ],
 "metadata": {
  "colab": {
   "provenance": []
  },
  "kernelspec": {
   "display_name": "Python 3 (ipykernel)",
   "language": "python",
   "name": "python3"
  },
  "language_info": {
   "codemirror_mode": {
    "name": "ipython",
    "version": 3
   },
   "file_extension": ".py",
   "mimetype": "text/x-python",
   "name": "python",
   "nbconvert_exporter": "python",
   "pygments_lexer": "ipython3",
   "version": "3.10.1"
  }
 },
 "nbformat": 4,
 "nbformat_minor": 1
}
